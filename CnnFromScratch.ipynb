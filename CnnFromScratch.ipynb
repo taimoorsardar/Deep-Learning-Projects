{
  "nbformat": 4,
  "nbformat_minor": 0,
  "metadata": {
    "colab": {
      "provenance": [],
      "authorship_tag": "ABX9TyOpQ8XQP+5GqrKKYVVUbYZC",
      "include_colab_link": true
    },
    "kernelspec": {
      "name": "python3",
      "display_name": "Python 3"
    },
    "language_info": {
      "name": "python"
    }
  },
  "cells": [
    {
      "cell_type": "markdown",
      "metadata": {
        "id": "view-in-github",
        "colab_type": "text"
      },
      "source": [
        "<a href=\"https://colab.research.google.com/github/taimoorsardar/Deep-Learning-Projects/blob/main/CnnFromScratch.ipynb\" target=\"_parent\"><img src=\"https://colab.research.google.com/assets/colab-badge.svg\" alt=\"Open In Colab\"/></a>"
      ]
    },
    {
      "cell_type": "markdown",
      "source": [
        "##importing libraries"
      ],
      "metadata": {
        "id": "ATjOAcAmmAg6"
      }
    },
    {
      "cell_type": "code",
      "execution_count": null,
      "metadata": {
        "id": "9AMqVcAQlzxh"
      },
      "outputs": [],
      "source": [
        "import numpy as np"
      ]
    },
    {
      "cell_type": "markdown",
      "source": [
        "##Define the Network Architecture"
      ],
      "metadata": {
        "id": "HPNIbeBnmcoF"
      }
    },
    {
      "cell_type": "code",
      "source": [
        "# Define the architecture of the neural network\n",
        "input_size = 1\n",
        "hidden_size = 1\n",
        "output_size = 1"
      ],
      "metadata": {
        "id": "Uh0i7laNmfla"
      },
      "execution_count": null,
      "outputs": []
    },
    {
      "cell_type": "markdown",
      "source": [
        "##Initialize Weights and Biases"
      ],
      "metadata": {
        "id": "LddaIRvQnBIs"
      }
    },
    {
      "cell_type": "code",
      "source": [
        "# Xavier Initialization function as we will be using sigmoid function later on that's why\n",
        "def xavier(size):\n",
        "    return np.random.randn(*size) * np.sqrt(1.0 / size[0])\n",
        "\n",
        "# Initialize weights and biases\n",
        "W1 = xavier((input_size, hidden_size))\n",
        "b1 = np.zeros((1, hidden_size))\n",
        "W2 = xavier((hidden_size, output_size))\n",
        "b2 = np.zeros((1, output_size))\n"
      ],
      "metadata": {
        "id": "26TG846snFX-"
      },
      "execution_count": null,
      "outputs": []
    },
    {
      "cell_type": "markdown",
      "source": [
        "##Define the Activation Function (Sigmoid)"
      ],
      "metadata": {
        "id": "vtyMmRovnY4D"
      }
    },
    {
      "cell_type": "code",
      "source": [
        "# Sigmoid activation function\n",
        "def sigmoid(x):\n",
        "    return 1 / (1 + np.exp(-x))"
      ],
      "metadata": {
        "id": "4YUJBhnVnVJk"
      },
      "execution_count": null,
      "outputs": []
    },
    {
      "cell_type": "markdown",
      "source": [
        "##Forward Pass"
      ],
      "metadata": {
        "id": "9ByX38NDnnmw"
      }
    },
    {
      "cell_type": "code",
      "source": [
        "def forward(input_data):\n",
        "    # Input to hidden layer\n",
        "    z1 = np.dot(input_data, W1) + b1\n",
        "    a1 = sigmoid(z1)\n",
        "\n",
        "    # Hidden layer to output layer\n",
        "    z2 = np.dot(a1, W2) + b2\n",
        "    output = sigmoid(z2)\n",
        "\n",
        "    return output, a1\n"
      ],
      "metadata": {
        "id": "hYVR0yzXnr92"
      },
      "execution_count": null,
      "outputs": []
    },
    {
      "cell_type": "markdown",
      "source": [
        "##Loss Function (Mean Squared Error)"
      ],
      "metadata": {
        "id": "NBobHZW5n5L_"
      }
    },
    {
      "cell_type": "code",
      "source": [
        "def loss(predicted_output, target_output):\n",
        "    return np.mean((predicted_output - target_output) ** 2)"
      ],
      "metadata": {
        "id": "9Rz4Z4BQn4BS"
      },
      "execution_count": null,
      "outputs": []
    },
    {
      "cell_type": "markdown",
      "source": [
        "##Backward Pass (Backpropagation)"
      ],
      "metadata": {
        "id": "aAp8_OkZoF7a"
      }
    },
    {
      "cell_type": "code",
      "source": [
        "# Derivative of the sigmoid function for backpropagation\n",
        "def sigmoid_derivative(x):\n",
        "    return x * (1 - x)"
      ],
      "metadata": {
        "id": "ui3jdk0xoRgr"
      },
      "execution_count": null,
      "outputs": []
    },
    {
      "cell_type": "code",
      "source": [
        "def backward(input_data, a1, predicted_output, target_output, learning_rate):\n",
        "    # Declare global variables\n",
        "    global W1, b1, W2, b2\n",
        "\n",
        "    # Compute the error in the output layer\n",
        "    output_error = predicted_output - target_output\n",
        "    d_output = output_error * sigmoid_derivative(predicted_output)\n",
        "\n",
        "    # Gradients for W2 and b2\n",
        "    dW2 = np.dot(a1.T, d_output)\n",
        "    db2 = np.sum(d_output, axis=0, keepdims=True)\n",
        "\n",
        "    # Error in the hidden layer\n",
        "    hidden_error = np.dot(d_output, W2.T)\n",
        "    d_hidden = hidden_error * sigmoid_derivative(a1)\n",
        "\n",
        "    # Gradients for W1 and b1\n",
        "    dW1 = np.dot(input_data.T, d_hidden)\n",
        "    db1 = np.sum(d_hidden, axis=0, keepdims=True)\n",
        "\n",
        "    # Update the weights and biases\n",
        "    W1 -= learning_rate * dW1\n",
        "    b1 -= learning_rate * db1\n",
        "    W2 -= learning_rate * dW2\n",
        "    b2 -= learning_rate * db2\n"
      ],
      "metadata": {
        "id": "dhBjk42Pn-Mg"
      },
      "execution_count": null,
      "outputs": []
    },
    {
      "cell_type": "markdown",
      "source": [
        "##Training Loop"
      ],
      "metadata": {
        "id": "KBsA0SCFoqqP"
      }
    },
    {
      "cell_type": "code",
      "source": [
        "# Define the number of epochs\n",
        "num_epochs = 1000\n",
        "\n",
        "# Training loop\n",
        "for epoch in range(num_epochs):\n",
        "    # Define input data and targets\n",
        "    input_data = np.array([[0], [1]])\n",
        "    target = np.array([[0], [1]])\n",
        "\n",
        "    # Forward pass\n",
        "    predicted_output, hidden_layer_activation = forward(input_data)\n",
        "\n",
        "    # Compute current loss\n",
        "    current_loss = loss(predicted_output, target)\n",
        "\n",
        "    # Backpropagation\n",
        "    backward(input_data, hidden_layer_activation, predicted_output, target, learning_rate=0.1)\n",
        "\n",
        "    # Print the current loss every 100 epochs\n",
        "    if epoch % 100 == 0:\n",
        "        print(f\"Epoch {epoch}: Loss = {current_loss}\")\n"
      ],
      "metadata": {
        "colab": {
          "base_uri": "https://localhost:8080/"
        },
        "id": "4BzW8W1eoT_y",
        "outputId": "4e9c7c31-a040-41c3-c698-a9d8fb05e74c"
      },
      "execution_count": null,
      "outputs": [
        {
          "output_type": "stream",
          "name": "stdout",
          "text": [
            "Epoch 0: Loss = 0.2875406341241062\n",
            "Epoch 100: Loss = 0.26554819889323816\n",
            "Epoch 200: Loss = 0.25861694012307024\n",
            "Epoch 300: Loss = 0.25493239635391535\n",
            "Epoch 400: Loss = 0.252743490230619\n",
            "Epoch 500: Loss = 0.2513786525202577\n",
            "Epoch 600: Loss = 0.25042763145751035\n",
            "Epoch 700: Loss = 0.24959741629837429\n",
            "Epoch 800: Loss = 0.24862970778746502\n",
            "Epoch 900: Loss = 0.2472309705637929\n"
          ]
        }
      ]
    },
    {
      "cell_type": "markdown",
      "source": [
        "##Test the Trained Model"
      ],
      "metadata": {
        "id": "bOooDPBIo2LR"
      }
    },
    {
      "cell_type": "code",
      "source": [
        "# Define test data\n",
        "test_data = np.array([[0.5]])\n",
        "\n",
        "# Perform forward pass with the trained model\n",
        "predicted_output, _ = forward(test_data)\n",
        "\n",
        "# Print the predicted output\n",
        "print(\"Predicted output for test data [0.5]:\", predicted_output)\n"
      ],
      "metadata": {
        "colab": {
          "base_uri": "https://localhost:8080/"
        },
        "id": "KkTGS9W8owsb",
        "outputId": "cb341034-f966-4d8e-918f-63becf8063c6"
      },
      "execution_count": null,
      "outputs": [
        {
          "output_type": "stream",
          "name": "stdout",
          "text": [
            "Predicted output for test data [0.5]: [[0.49137673]]\n"
          ]
        }
      ]
    },
    {
      "cell_type": "markdown",
      "source": [
        "##Import any necessary Libraries"
      ],
      "metadata": {
        "id": "safpdF3GpnCm"
      }
    },
    {
      "cell_type": "code",
      "source": [
        "import numpy as np\n",
        "from sklearn.datasets import load_iris\n",
        "from sklearn.model_selection import train_test_split\n",
        "from sklearn.preprocessing import OneHotEncoder"
      ],
      "metadata": {
        "id": "xKjxu-0PpWPu"
      },
      "execution_count": null,
      "outputs": []
    },
    {
      "cell_type": "markdown",
      "source": [
        "##Data"
      ],
      "metadata": {
        "id": "oU7RIdaRsAnw"
      }
    },
    {
      "cell_type": "code",
      "source": [
        "# Step 2: Load Iris dataset\n",
        "iris = load_iris()\n",
        "X, y = iris.data, iris.target\n",
        "\n",
        "# Step 3: Preprocess data\n",
        "# Perform one-hot encoding on target labels\n",
        "encoder = OneHotEncoder(sparse=False)\n",
        "encoded_target = encoder.fit_transform(y.reshape(-1, 1))\n",
        "\n",
        "# Split data into training and testing sets\n",
        "X_train, X_test, y_train, y_test = train_test_split(X, encoded_target, test_size=0.2, random_state=42)"
      ],
      "metadata": {
        "colab": {
          "base_uri": "https://localhost:8080/"
        },
        "id": "5zdm847AsG4l",
        "outputId": "f2c628a7-8aa9-407e-eef9-994438403e21"
      },
      "execution_count": null,
      "outputs": [
        {
          "output_type": "stream",
          "name": "stderr",
          "text": [
            "/usr/local/lib/python3.10/dist-packages/sklearn/preprocessing/_encoders.py:868: FutureWarning: `sparse` was renamed to `sparse_output` in version 1.2 and will be removed in 1.4. `sparse_output` is ignored unless you leave `sparse` to its default value.\n",
            "  warnings.warn(\n"
          ]
        }
      ]
    },
    {
      "cell_type": "code",
      "source": [
        "print(\"Shape of X_train:\", X_train.shape)\n",
        "print(\"Shape of y_train:\", y_train.shape)"
      ],
      "metadata": {
        "colab": {
          "base_uri": "https://localhost:8080/"
        },
        "id": "vKaf0or9tEgR",
        "outputId": "201a6b76-6202-49c7-e4f2-70261fcef04a"
      },
      "execution_count": null,
      "outputs": [
        {
          "output_type": "stream",
          "name": "stdout",
          "text": [
            "Shape of X_train: (120, 4)\n",
            "Shape of y_train: (120, 3)\n"
          ]
        }
      ]
    },
    {
      "cell_type": "markdown",
      "source": [
        "##Defining Network Architecture"
      ],
      "metadata": {
        "id": "DNaVY6PLpxmR"
      }
    },
    {
      "cell_type": "code",
      "source": [
        "# Define the architecture of the neural network\n",
        "input_size = 4  # Number of input features in the Iris dataset\n",
        "hidden_size = 8  # Number of neurons in the hidden layer (hyperparameter)\n",
        "output_size = 3  # Number of output classes in the Iris dataset"
      ],
      "metadata": {
        "id": "e8LpC0EapyMq"
      },
      "execution_count": null,
      "outputs": []
    },
    {
      "cell_type": "markdown",
      "source": [
        "##Initializing weights and biases"
      ],
      "metadata": {
        "id": "-z23xpt_qEku"
      }
    },
    {
      "cell_type": "code",
      "source": [
        "# Initialize weights and biases for the first hidden layer\n",
        "W1 = np.random.randn(input_size, hidden_size)  # Weights connecting input to hidden layer\n",
        "b1 = np.zeros((1, hidden_size))  # Biases for the hidden layer\n",
        "\n",
        "# Initialize weights and biases for the output layer\n",
        "W2 = np.random.randn(hidden_size, output_size)  # Weights connecting hidden to output layer\n",
        "b2 = np.zeros((1, output_size))  # Biases for the output layer\n",
        "\n",
        "# Print the shapes of weights and biases\n",
        "print(\"Shape of W1:\", W1.shape)\n",
        "print(\"Shape of b1:\", b1.shape)\n",
        "print(\"Shape of W2:\", W2.shape)\n",
        "print(\"Shape of b2:\", b2.shape)"
      ],
      "metadata": {
        "colab": {
          "base_uri": "https://localhost:8080/"
        },
        "id": "u0RlKP5nqIUs",
        "outputId": "d63cdd66-cafa-4290-e031-9dac91d31779"
      },
      "execution_count": null,
      "outputs": [
        {
          "output_type": "stream",
          "name": "stdout",
          "text": [
            "Shape of W1: (4, 8)\n",
            "Shape of b1: (1, 8)\n",
            "Shape of W2: (8, 3)\n",
            "Shape of b2: (1, 3)\n"
          ]
        }
      ]
    },
    {
      "cell_type": "markdown",
      "source": [
        "##Defining the Activation Function"
      ],
      "metadata": {
        "id": "V_4W3-xhqU4B"
      }
    },
    {
      "cell_type": "code",
      "source": [
        "# Sigmoid activation function for the hidden layer\n",
        "def sigmoid(x):\n",
        "    return 1 / (1 + np.exp(-x))\n",
        "\n",
        "# Softmax activation function for the output layer\n",
        "def softmax(x):\n",
        "    exp_x = np.exp(x - np.max(x, axis=1, keepdims=True))\n",
        "    return exp_x / np.sum(exp_x, axis=1, keepdims=True)\n"
      ],
      "metadata": {
        "id": "goWr4_MDqRLn"
      },
      "execution_count": null,
      "outputs": []
    },
    {
      "cell_type": "markdown",
      "source": [
        "##Forward Pass"
      ],
      "metadata": {
        "id": "6_NUyvp4qeY4"
      }
    },
    {
      "cell_type": "code",
      "source": [
        "def forward(X):\n",
        "    # Compute input of the hidden layer\n",
        "    hidden_input = np.dot(X, W1) + b1\n",
        "    #print(\"Shape of hidden_input:\", hidden_input.shape)\n",
        "\n",
        "    # Apply sigmoid activation function to compute hidden layer activations\n",
        "    hidden_output = sigmoid(hidden_input)\n",
        "\n",
        "    # Compute input of the output layer\n",
        "    output_input = np.dot(hidden_output, W2) + b2\n",
        "    #print(\"Shape of output_input:\", output_input.shape)\n",
        "\n",
        "    # Apply softmax activation function to compute output probabilities\n",
        "    output_probs = softmax(output_input)\n",
        "\n",
        "    return output_probs\n"
      ],
      "metadata": {
        "id": "dbMIwyQ-qdTu"
      },
      "execution_count": null,
      "outputs": []
    },
    {
      "cell_type": "markdown",
      "source": [
        "##Loss Function (Cross Entropy Loss)"
      ],
      "metadata": {
        "id": "M1JRspkaqv8O"
      }
    },
    {
      "cell_type": "code",
      "source": [
        "def loss(predicted_probs, target):\n",
        "    # Compute the cross-entropy loss\n",
        "    loss = -np.mean(np.sum(target * np.log(predicted_probs), axis=1))\n",
        "    return loss\n"
      ],
      "metadata": {
        "id": "32ZTnX2uqrtr"
      },
      "execution_count": null,
      "outputs": []
    },
    {
      "cell_type": "markdown",
      "source": [
        "##Backward Pass (Back propagation)"
      ],
      "metadata": {
        "id": "oaxlfh_ErAZm"
      }
    },
    {
      "cell_type": "code",
      "source": [
        "def backward(X, predicted_probs, target, learning_rate):\n",
        "    global W1, b1, W2, b2\n",
        "\n",
        "    # Compute the input and output of the hidden layer\n",
        "    hidden_input = np.dot(X, W1) + b1\n",
        "    hidden_output = sigmoid(hidden_input)\n",
        "\n",
        "    # Compute the error in the output layer\n",
        "    error_output = predicted_probs - target\n",
        "    #print(\"Shape of error_output:\", error_output.shape)\n",
        "\n",
        "    # Compute gradients for weights and biases of the output layer\n",
        "    dW2 = np.dot(hidden_output.T, error_output)\n",
        "    db2 = np.sum(error_output, axis=0, keepdims=True)\n",
        "\n",
        "    # Compute error in the hidden layer\n",
        "    error_hidden = np.dot(error_output, W2.T) * hidden_output * (1 - hidden_output)\n",
        "    #print(\"Shape of error_hidden:\", error_hidden.shape)\n",
        "\n",
        "    # Compute gradients for weights and biases of the hidden layer\n",
        "    dW1 = np.dot(X.T, error_hidden)\n",
        "    db1 = np.sum(error_hidden, axis=0, keepdims=True)\n",
        "\n",
        "    # Update weights and biases using gradients and learning rate\n",
        "    W1 -= learning_rate * dW1\n",
        "    b1 -= learning_rate * db1\n",
        "    W2 -= learning_rate * dW2\n",
        "    b2 -= learning_rate * db2\n"
      ],
      "metadata": {
        "id": "gy_SBUONq2ce"
      },
      "execution_count": null,
      "outputs": []
    },
    {
      "cell_type": "markdown",
      "source": [
        "##Training Loop"
      ],
      "metadata": {
        "id": "Esd0IApgrwhP"
      }
    },
    {
      "cell_type": "code",
      "source": [
        "# Define the number of epochs\n",
        "num_epochs = 1000\n",
        "\n",
        "# Training loop\n",
        "for epoch in range(num_epochs):\n",
        "    # Define input data and targets\n",
        "    input_data = X_train\n",
        "    target = y_train\n",
        "\n",
        "    # Forward pass\n",
        "    predicted_probs = forward(input_data)\n",
        "\n",
        "    # Compute current loss\n",
        "    current_loss = loss(predicted_probs, target)\n",
        "\n",
        "    # Backpropagation\n",
        "    backward(input_data, predicted_probs, target, learning_rate=0.01)\n",
        "\n",
        "    # Print the current loss every 100 epochs\n",
        "    if epoch % 100 == 0:\n",
        "        print(f\"Epoch {epoch}: Loss = {current_loss}\")\n"
      ],
      "metadata": {
        "colab": {
          "base_uri": "https://localhost:8080/"
        },
        "id": "pCdK-gsBrMR_",
        "outputId": "6e4a575b-685a-4be9-b0d8-0aa0e9cb3336"
      },
      "execution_count": null,
      "outputs": [
        {
          "output_type": "stream",
          "name": "stdout",
          "text": [
            "Epoch 0: Loss = 0.08944302060366034\n",
            "Epoch 100: Loss = 0.08259734842531831\n",
            "Epoch 200: Loss = 0.06539489647977002\n",
            "Epoch 300: Loss = 0.062436517264631196\n",
            "Epoch 400: Loss = 0.060494257654960644\n",
            "Epoch 500: Loss = 0.05922375635990677\n",
            "Epoch 600: Loss = 0.058432622458125125\n",
            "Epoch 700: Loss = 0.058150501336541455\n",
            "Epoch 800: Loss = 0.05799985539047509\n",
            "Epoch 900: Loss = 0.05791786791331643\n"
          ]
        }
      ]
    },
    {
      "cell_type": "markdown",
      "source": [
        "##Testing the Trained Model"
      ],
      "metadata": {
        "id": "ZQFlkYLJuRsZ"
      }
    },
    {
      "cell_type": "code",
      "source": [
        "from sklearn.metrics import accuracy_score, precision_score, recall_score, f1_score"
      ],
      "metadata": {
        "id": "Ws0VXaaCuUXb"
      },
      "execution_count": null,
      "outputs": []
    },
    {
      "cell_type": "code",
      "source": [
        "# Forward pass on test data\n",
        "predicted_probs_test = forward(X_test)\n",
        "\n",
        "# Convert predicted probabilities to class labels\n",
        "predicted_labels_test = np.argmax(predicted_probs_test, axis=1)\n",
        "true_labels_test = np.argmax(y_test, axis=1)\n",
        "\n",
        "# Compute performance metrics\n",
        "accuracy = accuracy_score(true_labels_test, predicted_labels_test)\n",
        "precision = precision_score(true_labels_test, predicted_labels_test, average='weighted')\n",
        "recall = recall_score(true_labels_test, predicted_labels_test, average='weighted')\n",
        "f1 = f1_score(true_labels_test, predicted_labels_test, average='weighted')\n",
        "\n",
        "# Print performance metrics\n",
        "print(\"Performance Metrics:\")\n",
        "print(f\"Accuracy: {accuracy:.4f}\")\n",
        "print(f\"Precision: {precision:.4f}\")\n",
        "print(f\"Recall: {recall:.4f}\")\n",
        "print(f\"F1-score: {f1:.4f}\")\n"
      ],
      "metadata": {
        "colab": {
          "base_uri": "https://localhost:8080/"
        },
        "id": "FtaXlajQrz-H",
        "outputId": "74070131-34a0-464d-fa00-cde2de9b7655"
      },
      "execution_count": null,
      "outputs": [
        {
          "output_type": "stream",
          "name": "stdout",
          "text": [
            "Performance Metrics:\n",
            "Accuracy: 0.9667\n",
            "Precision: 0.9694\n",
            "Recall: 0.9667\n",
            "F1-score: 0.9664\n"
          ]
        }
      ]
    },
    {
      "cell_type": "markdown",
      "source": [
        "###Visualization of metrics"
      ],
      "metadata": {
        "id": "1A5MGuWyupjj"
      }
    },
    {
      "cell_type": "code",
      "source": [
        "import matplotlib.pyplot as plt\n",
        "import seaborn as sns\n",
        "from sklearn.metrics import confusion_matrix\n",
        "\n",
        "# Compute confusion matrix\n",
        "conf_matrix = confusion_matrix(true_labels_test, predicted_labels_test)\n",
        "\n",
        "# Plot confusion matrix\n",
        "plt.figure(figsize=(8, 6))\n",
        "sns.heatmap(conf_matrix, annot=True, fmt='d', cmap='Blues', cbar=False)\n",
        "plt.xlabel('Predicted labels')\n",
        "plt.ylabel('True labels')\n",
        "plt.title('Confusion Matrix')\n",
        "plt.show()\n"
      ],
      "metadata": {
        "colab": {
          "base_uri": "https://localhost:8080/",
          "height": 564
        },
        "id": "7v64AXp4uWMk",
        "outputId": "7463214c-7464-48e2-c553-efe16b95ffb0"
      },
      "execution_count": null,
      "outputs": [
        {
          "output_type": "display_data",
          "data": {
            "text/plain": [
              "<Figure size 800x600 with 1 Axes>"
            ],
            "image/png": "[encoded data removed]"
          },
          "metadata": {}
        }
      ]
    },
    {
      "cell_type": "code",
      "source": [
        "# Plot performance metrics\n",
        "metrics = ['Accuracy', 'Precision', 'Recall', 'F1-score']\n",
        "scores = [accuracy, precision, recall, f1]\n",
        "\n",
        "plt.figure(figsize=(10, 6))\n",
        "sns.barplot(x=metrics, y=scores, palette='viridis')\n",
        "plt.title('Performance Metrics')\n",
        "plt.ylabel('Score')\n",
        "plt.ylim(0, 1)\n",
        "plt.show()\n"
      ],
      "metadata": {
        "colab": {
          "base_uri": "https://localhost:8080/",
          "height": 636
        },
        "id": "A6iDyFqbuhhI",
        "outputId": "91531e66-6857-446e-8a9c-24f918f05252"
      },
      "execution_count": null,
      "outputs": [
        {
          "output_type": "stream",
          "name": "stderr",
          "text": [
            "<ipython-input-37-ed371b4b4683>:6: FutureWarning: \n",
            "\n",
            "Passing `palette` without assigning `hue` is deprecated and will be removed in v0.14.0. Assign the `x` variable to `hue` and set `legend=False` for the same effect.\n",
            "\n",
            "  sns.barplot(x=metrics, y=scores, palette='viridis')\n"
          ]
        },
        {
          "output_type": "display_data",
          "data": {
            "text/plain": [
              "<Figure size 1000x600 with 1 Axes>"
            ],
            "image/png": "[encoded data removed]"
          },
          "metadata": {}
        }
      ]
    }
  ]
}